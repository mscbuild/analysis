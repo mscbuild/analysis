{
 "cells": [
  {
   "cell_type": "markdown",
   "id": "f7ebc2ef",
   "metadata": {
    "papermill": {
     "duration": 0.013297,
     "end_time": "2024-10-28T19:54:41.598673",
     "exception": false,
     "start_time": "2024-10-28T19:54:41.585376",
     "status": "completed"
    },
    "tags": []
   },
   "source": [
    "# Top 1000 Wealthiest People"
   ]
  },
  {
   "cell_type": "markdown",
   "id": "9c018ba4",
   "metadata": {
    "papermill": {
     "duration": 0.012441,
     "end_time": "2024-10-28T19:54:41.622996",
     "exception": false,
     "start_time": "2024-10-28T19:54:41.610555",
     "status": "completed"
    },
    "tags": []
   },
   "source": [
    "This dataset is a valuable resource for anyone interested in understanding global wealth distribution, the industries that produce the wealthiest individuals, and the countries where they are based. It includes crucial information about each person’s net worth, their primary business interests, and their country of residence.\n",
    "\n",
    ">Data Overview\n",
    "\n",
    "The dataset consists of key columns that offer comprehensive insights into the financial status of the world’s billionaires:\n",
    "\n",
    "Name: This column lists the full name of each individual. It is essential for identifying who the top 1000 richest people are.\n",
    "Country: This shows the country where the individual resides or where their primary business operations are based. It helps in understanding the geographic distribution of wealth.\n",
    "\n",
    "Industry: This column identifies the main industry or sector in which the individual has accumulated their wealth. This information provides insight into which industries are the most lucrative for building substantial fortunes.\n",
    "\n",
    "Net Worth (in billions): This column reports the estimated net worth of each individual, expressed in billions of dollars. It reflects the financial scale of their wealth.\n",
    "\n",
    "Company: This lists the primary company or business that is associated with each individual. It highlights the major enterprises through which they have built their fortunes."
   ]
  },
  {
   "cell_type": "markdown",
   "id": "9ac06312",
   "metadata": {
    "papermill": {
     "duration": 0.011382,
     "end_time": "2024-10-28T19:54:41.645931",
     "exception": false,
     "start_time": "2024-10-28T19:54:41.634549",
     "status": "completed"
    },
    "tags": []
   },
   "source": [
    "#  Import Libraries"
   ]
  },
  {
   "cell_type": "code",
   "execution_count": 1,
   "id": "41b56c41",
   "metadata": {
    "execution": {
     "iopub.execute_input": "2024-10-28T19:54:41.671595Z",
     "iopub.status.busy": "2024-10-28T19:54:41.670952Z",
     "iopub.status.idle": "2024-10-28T19:54:44.542891Z",
     "shell.execute_reply": "2024-10-28T19:54:44.541245Z"
    },
    "papermill": {
     "duration": 2.888507,
     "end_time": "2024-10-28T19:54:44.545968",
     "exception": false,
     "start_time": "2024-10-28T19:54:41.657461",
     "status": "completed"
    },
    "tags": []
   },
   "outputs": [
    {
     "data": {
      "text/html": [
       "<div>\n",
       "<style scoped>\n",
       "    .dataframe tbody tr th:only-of-type {\n",
       "        vertical-align: middle;\n",
       "    }\n",
       "\n",
       "    .dataframe tbody tr th {\n",
       "        vertical-align: top;\n",
       "    }\n",
       "\n",
       "    .dataframe thead th {\n",
       "        text-align: right;\n",
       "    }\n",
       "</style>\n",
       "<table border=\"1\" class=\"dataframe\">\n",
       "  <thead>\n",
       "    <tr style=\"text-align: right;\">\n",
       "      <th></th>\n",
       "      <th>Name</th>\n",
       "      <th>Country</th>\n",
       "      <th>Industry</th>\n",
       "      <th>Net Worth (in billions)</th>\n",
       "      <th>Company</th>\n",
       "    </tr>\n",
       "  </thead>\n",
       "  <tbody>\n",
       "    <tr>\n",
       "      <th>0</th>\n",
       "      <td>Rob Walton</td>\n",
       "      <td>Mexico</td>\n",
       "      <td>Finance</td>\n",
       "      <td>8.50</td>\n",
       "      <td>Walmart</td>\n",
       "    </tr>\n",
       "    <tr>\n",
       "      <th>1</th>\n",
       "      <td>Sergey Brin</td>\n",
       "      <td>USA</td>\n",
       "      <td>Automotive</td>\n",
       "      <td>44.76</td>\n",
       "      <td>Google</td>\n",
       "    </tr>\n",
       "    <tr>\n",
       "      <th>2</th>\n",
       "      <td>Steve Ballmer</td>\n",
       "      <td>USA</td>\n",
       "      <td>Manufacturing</td>\n",
       "      <td>13.43</td>\n",
       "      <td>Koch Industries</td>\n",
       "    </tr>\n",
       "    <tr>\n",
       "      <th>3</th>\n",
       "      <td>Mukesh Ambani</td>\n",
       "      <td>USA</td>\n",
       "      <td>Technology</td>\n",
       "      <td>120.44</td>\n",
       "      <td>Google</td>\n",
       "    </tr>\n",
       "    <tr>\n",
       "      <th>4</th>\n",
       "      <td>Jim Walton</td>\n",
       "      <td>USA</td>\n",
       "      <td>Fashion</td>\n",
       "      <td>122.39</td>\n",
       "      <td>Walmart</td>\n",
       "    </tr>\n",
       "    <tr>\n",
       "      <th>...</th>\n",
       "      <td>...</td>\n",
       "      <td>...</td>\n",
       "      <td>...</td>\n",
       "      <td>...</td>\n",
       "      <td>...</td>\n",
       "    </tr>\n",
       "    <tr>\n",
       "      <th>995</th>\n",
       "      <td>Warren Buffett</td>\n",
       "      <td>USA</td>\n",
       "      <td>Retail</td>\n",
       "      <td>142.66</td>\n",
       "      <td>Facebook</td>\n",
       "    </tr>\n",
       "    <tr>\n",
       "      <th>996</th>\n",
       "      <td>Amancio Ortega</td>\n",
       "      <td>USA</td>\n",
       "      <td>Media</td>\n",
       "      <td>166.87</td>\n",
       "      <td>Walmart</td>\n",
       "    </tr>\n",
       "    <tr>\n",
       "      <th>997</th>\n",
       "      <td>Alice Walton</td>\n",
       "      <td>USA</td>\n",
       "      <td>Retail</td>\n",
       "      <td>30.44</td>\n",
       "      <td>Walmart</td>\n",
       "    </tr>\n",
       "    <tr>\n",
       "      <th>998</th>\n",
       "      <td>Amancio Ortega</td>\n",
       "      <td>Spain</td>\n",
       "      <td>Retail</td>\n",
       "      <td>163.18</td>\n",
       "      <td>Reliance Industries</td>\n",
       "    </tr>\n",
       "    <tr>\n",
       "      <th>999</th>\n",
       "      <td>Jim Walton</td>\n",
       "      <td>USA</td>\n",
       "      <td>Retail</td>\n",
       "      <td>186.94</td>\n",
       "      <td>Berkshire Hathaway</td>\n",
       "    </tr>\n",
       "  </tbody>\n",
       "</table>\n",
       "<p>1000 rows × 5 columns</p>\n",
       "</div>"
      ],
      "text/plain": [
       "               Name Country       Industry  Net Worth (in billions)  \\\n",
       "0        Rob Walton  Mexico        Finance                     8.50   \n",
       "1       Sergey Brin     USA     Automotive                    44.76   \n",
       "2     Steve Ballmer     USA  Manufacturing                    13.43   \n",
       "3     Mukesh Ambani     USA     Technology                   120.44   \n",
       "4        Jim Walton     USA        Fashion                   122.39   \n",
       "..              ...     ...            ...                      ...   \n",
       "995  Warren Buffett     USA         Retail                   142.66   \n",
       "996  Amancio Ortega     USA          Media                   166.87   \n",
       "997    Alice Walton     USA         Retail                    30.44   \n",
       "998  Amancio Ortega   Spain         Retail                   163.18   \n",
       "999      Jim Walton     USA         Retail                   186.94   \n",
       "\n",
       "                 Company  \n",
       "0                Walmart  \n",
       "1                 Google  \n",
       "2        Koch Industries  \n",
       "3                 Google  \n",
       "4                Walmart  \n",
       "..                   ...  \n",
       "995             Facebook  \n",
       "996              Walmart  \n",
       "997              Walmart  \n",
       "998  Reliance Industries  \n",
       "999   Berkshire Hathaway  \n",
       "\n",
       "[1000 rows x 5 columns]"
      ]
     },
     "execution_count": 1,
     "metadata": {},
     "output_type": "execute_result"
    }
   ],
   "source": [
    "import numpy as np \n",
    "import pandas as pd \n",
    "import seaborn as sns\n",
    "import matplotlib.pyplot as plt\n",
    "import warnings\n",
    "warnings.filterwarnings(\"ignore\")\n",
    "\n",
    "df=pd.read_csv(\"/kaggle/input/top-wealthiest-people-in-the-world/Top_1000_wealthiest_people.csv\")\n",
    "df"
   ]
  },
  {
   "cell_type": "markdown",
   "id": "be44abec",
   "metadata": {
    "papermill": {
     "duration": 0.011398,
     "end_time": "2024-10-28T19:54:44.569310",
     "exception": false,
     "start_time": "2024-10-28T19:54:44.557912",
     "status": "completed"
    },
    "tags": []
   },
   "source": [
    "# Data Processing"
   ]
  },
  {
   "cell_type": "code",
   "execution_count": 2,
   "id": "00045e7e",
   "metadata": {
    "execution": {
     "iopub.execute_input": "2024-10-28T19:54:44.595299Z",
     "iopub.status.busy": "2024-10-28T19:54:44.594810Z",
     "iopub.status.idle": "2024-10-28T19:54:44.603987Z",
     "shell.execute_reply": "2024-10-28T19:54:44.602268Z"
    },
    "papermill": {
     "duration": 0.025518,
     "end_time": "2024-10-28T19:54:44.606810",
     "exception": false,
     "start_time": "2024-10-28T19:54:44.581292",
     "status": "completed"
    },
    "tags": []
   },
   "outputs": [
    {
     "data": {
      "text/plain": [
       "(1000, 5)"
      ]
     },
     "execution_count": 2,
     "metadata": {},
     "output_type": "execute_result"
    }
   ],
   "source": [
    "df.shape\n"
   ]
  },
  {
   "cell_type": "code",
   "execution_count": 3,
   "id": "d3d3d93f",
   "metadata": {
    "execution": {
     "iopub.execute_input": "2024-10-28T19:54:44.632781Z",
     "iopub.status.busy": "2024-10-28T19:54:44.631867Z",
     "iopub.status.idle": "2024-10-28T19:54:44.638481Z",
     "shell.execute_reply": "2024-10-28T19:54:44.637141Z"
    },
    "papermill": {
     "duration": 0.022398,
     "end_time": "2024-10-28T19:54:44.641177",
     "exception": false,
     "start_time": "2024-10-28T19:54:44.618779",
     "status": "completed"
    },
    "tags": []
   },
   "outputs": [
    {
     "name": "stdout",
     "output_type": "stream",
     "text": [
      "2\n"
     ]
    }
   ],
   "source": [
    "print(df.ndim)"
   ]
  },
  {
   "cell_type": "code",
   "execution_count": 4,
   "id": "c48775c7",
   "metadata": {
    "execution": {
     "iopub.execute_input": "2024-10-28T19:54:44.667999Z",
     "iopub.status.busy": "2024-10-28T19:54:44.667053Z",
     "iopub.status.idle": "2024-10-28T19:54:44.675349Z",
     "shell.execute_reply": "2024-10-28T19:54:44.673799Z"
    },
    "papermill": {
     "duration": 0.024889,
     "end_time": "2024-10-28T19:54:44.678275",
     "exception": false,
     "start_time": "2024-10-28T19:54:44.653386",
     "status": "completed"
    },
    "tags": []
   },
   "outputs": [
    {
     "name": "stdout",
     "output_type": "stream",
     "text": [
      "5000\n"
     ]
    }
   ],
   "source": [
    "print(df.size)"
   ]
  },
  {
   "cell_type": "code",
   "execution_count": 5,
   "id": "003b9989",
   "metadata": {
    "execution": {
     "iopub.execute_input": "2024-10-28T19:54:44.704520Z",
     "iopub.status.busy": "2024-10-28T19:54:44.704093Z",
     "iopub.status.idle": "2024-10-28T19:54:44.719847Z",
     "shell.execute_reply": "2024-10-28T19:54:44.718280Z"
    },
    "papermill": {
     "duration": 0.032286,
     "end_time": "2024-10-28T19:54:44.722711",
     "exception": false,
     "start_time": "2024-10-28T19:54:44.690425",
     "status": "completed"
    },
    "tags": []
   },
   "outputs": [
    {
     "name": "stdout",
     "output_type": "stream",
     "text": [
      "0      False\n",
      "1      False\n",
      "2      False\n",
      "3      False\n",
      "4      False\n",
      "       ...  \n",
      "995    False\n",
      "996    False\n",
      "997    False\n",
      "998    False\n",
      "999    False\n",
      "Length: 1000, dtype: bool\n"
     ]
    }
   ],
   "source": [
    "print(df.duplicated())"
   ]
  },
  {
   "cell_type": "code",
   "execution_count": 6,
   "id": "218223e1",
   "metadata": {
    "execution": {
     "iopub.execute_input": "2024-10-28T19:54:44.749957Z",
     "iopub.status.busy": "2024-10-28T19:54:44.749412Z",
     "iopub.status.idle": "2024-10-28T19:54:44.758865Z",
     "shell.execute_reply": "2024-10-28T19:54:44.757775Z"
    },
    "papermill": {
     "duration": 0.025878,
     "end_time": "2024-10-28T19:54:44.761213",
     "exception": false,
     "start_time": "2024-10-28T19:54:44.735335",
     "status": "completed"
    },
    "tags": []
   },
   "outputs": [
    {
     "data": {
      "text/plain": [
       "Name                        object\n",
       "Country                     object\n",
       "Industry                    object\n",
       "Net Worth (in billions)    float64\n",
       "Company                     object\n",
       "dtype: object"
      ]
     },
     "execution_count": 6,
     "metadata": {},
     "output_type": "execute_result"
    }
   ],
   "source": [
    "df.dtypes\n"
   ]
  },
  {
   "cell_type": "code",
   "execution_count": 7,
   "id": "ace3b012",
   "metadata": {
    "execution": {
     "iopub.execute_input": "2024-10-28T19:54:44.789475Z",
     "iopub.status.busy": "2024-10-28T19:54:44.788235Z",
     "iopub.status.idle": "2024-10-28T19:54:44.799212Z",
     "shell.execute_reply": "2024-10-28T19:54:44.797849Z"
    },
    "papermill": {
     "duration": 0.028391,
     "end_time": "2024-10-28T19:54:44.802256",
     "exception": false,
     "start_time": "2024-10-28T19:54:44.773865",
     "status": "completed"
    },
    "tags": []
   },
   "outputs": [
    {
     "data": {
      "text/plain": [
       "Name                       0\n",
       "Country                    0\n",
       "Industry                   0\n",
       "Net Worth (in billions)    0\n",
       "Company                    0\n",
       "dtype: int64"
      ]
     },
     "execution_count": 7,
     "metadata": {},
     "output_type": "execute_result"
    }
   ],
   "source": [
    "df.isna().sum()"
   ]
  },
  {
   "cell_type": "code",
   "execution_count": 8,
   "id": "bec8b091",
   "metadata": {
    "execution": {
     "iopub.execute_input": "2024-10-28T19:54:44.829282Z",
     "iopub.status.busy": "2024-10-28T19:54:44.828792Z",
     "iopub.status.idle": "2024-10-28T19:54:44.839370Z",
     "shell.execute_reply": "2024-10-28T19:54:44.838102Z"
    },
    "papermill": {
     "duration": 0.027005,
     "end_time": "2024-10-28T19:54:44.841828",
     "exception": false,
     "start_time": "2024-10-28T19:54:44.814823",
     "status": "completed"
    },
    "tags": []
   },
   "outputs": [
    {
     "data": {
      "text/plain": [
       "0"
      ]
     },
     "execution_count": 8,
     "metadata": {},
     "output_type": "execute_result"
    }
   ],
   "source": [
    "df.duplicated().sum()\n"
   ]
  },
  {
   "cell_type": "code",
   "execution_count": 9,
   "id": "5756a267",
   "metadata": {
    "execution": {
     "iopub.execute_input": "2024-10-28T19:54:44.869734Z",
     "iopub.status.busy": "2024-10-28T19:54:44.868515Z",
     "iopub.status.idle": "2024-10-28T19:54:44.876810Z",
     "shell.execute_reply": "2024-10-28T19:54:44.875532Z"
    },
    "papermill": {
     "duration": 0.024977,
     "end_time": "2024-10-28T19:54:44.879432",
     "exception": false,
     "start_time": "2024-10-28T19:54:44.854455",
     "status": "completed"
    },
    "tags": []
   },
   "outputs": [
    {
     "data": {
      "text/plain": [
       "RangeIndex(start=0, stop=1000, step=1)"
      ]
     },
     "execution_count": 9,
     "metadata": {},
     "output_type": "execute_result"
    }
   ],
   "source": [
    "df.index"
   ]
  },
  {
   "cell_type": "code",
   "execution_count": 10,
   "id": "30bcce3a",
   "metadata": {
    "execution": {
     "iopub.execute_input": "2024-10-28T19:54:44.906874Z",
     "iopub.status.busy": "2024-10-28T19:54:44.906435Z",
     "iopub.status.idle": "2024-10-28T19:54:44.915177Z",
     "shell.execute_reply": "2024-10-28T19:54:44.913873Z"
    },
    "papermill": {
     "duration": 0.026057,
     "end_time": "2024-10-28T19:54:44.918331",
     "exception": false,
     "start_time": "2024-10-28T19:54:44.892274",
     "status": "completed"
    },
    "tags": []
   },
   "outputs": [
    {
     "data": {
      "text/plain": [
       "Index(['Name', 'Country', 'Industry', 'Net Worth (in billions)', 'Company'], dtype='object')"
      ]
     },
     "execution_count": 10,
     "metadata": {},
     "output_type": "execute_result"
    }
   ],
   "source": [
    "df.columns"
   ]
  },
  {
   "cell_type": "code",
   "execution_count": 11,
   "id": "9a83b95f",
   "metadata": {
    "execution": {
     "iopub.execute_input": "2024-10-28T19:54:44.946892Z",
     "iopub.status.busy": "2024-10-28T19:54:44.946389Z",
     "iopub.status.idle": "2024-10-28T19:54:44.955435Z",
     "shell.execute_reply": "2024-10-28T19:54:44.953734Z"
    },
    "papermill": {
     "duration": 0.026766,
     "end_time": "2024-10-28T19:54:44.958376",
     "exception": false,
     "start_time": "2024-10-28T19:54:44.931610",
     "status": "completed"
    },
    "tags": []
   },
   "outputs": [
    {
     "data": {
      "text/plain": [
       "['Name', 'Country', 'Industry', 'Net Worth (in billions)', 'Company']"
      ]
     },
     "execution_count": 11,
     "metadata": {},
     "output_type": "execute_result"
    }
   ],
   "source": [
    "df.columns.tolist()"
   ]
  },
  {
   "cell_type": "code",
   "execution_count": 12,
   "id": "c117dfaf",
   "metadata": {
    "execution": {
     "iopub.execute_input": "2024-10-28T19:54:44.986617Z",
     "iopub.status.busy": "2024-10-28T19:54:44.986151Z",
     "iopub.status.idle": "2024-10-28T19:54:45.003071Z",
     "shell.execute_reply": "2024-10-28T19:54:45.001573Z"
    },
    "papermill": {
     "duration": 0.03409,
     "end_time": "2024-10-28T19:54:45.005591",
     "exception": false,
     "start_time": "2024-10-28T19:54:44.971501",
     "status": "completed"
    },
    "tags": []
   },
   "outputs": [
    {
     "data": {
      "text/html": [
       "<div>\n",
       "<style scoped>\n",
       "    .dataframe tbody tr th:only-of-type {\n",
       "        vertical-align: middle;\n",
       "    }\n",
       "\n",
       "    .dataframe tbody tr th {\n",
       "        vertical-align: top;\n",
       "    }\n",
       "\n",
       "    .dataframe thead th {\n",
       "        text-align: right;\n",
       "    }\n",
       "</style>\n",
       "<table border=\"1\" class=\"dataframe\">\n",
       "  <thead>\n",
       "    <tr style=\"text-align: right;\">\n",
       "      <th></th>\n",
       "      <th>Name</th>\n",
       "      <th>Country</th>\n",
       "      <th>Industry</th>\n",
       "      <th>Net Worth (in billions)</th>\n",
       "      <th>Company</th>\n",
       "    </tr>\n",
       "  </thead>\n",
       "  <tbody>\n",
       "    <tr>\n",
       "      <th>0</th>\n",
       "      <td>False</td>\n",
       "      <td>False</td>\n",
       "      <td>False</td>\n",
       "      <td>False</td>\n",
       "      <td>False</td>\n",
       "    </tr>\n",
       "    <tr>\n",
       "      <th>1</th>\n",
       "      <td>False</td>\n",
       "      <td>False</td>\n",
       "      <td>False</td>\n",
       "      <td>False</td>\n",
       "      <td>False</td>\n",
       "    </tr>\n",
       "    <tr>\n",
       "      <th>2</th>\n",
       "      <td>False</td>\n",
       "      <td>False</td>\n",
       "      <td>False</td>\n",
       "      <td>False</td>\n",
       "      <td>False</td>\n",
       "    </tr>\n",
       "    <tr>\n",
       "      <th>3</th>\n",
       "      <td>False</td>\n",
       "      <td>False</td>\n",
       "      <td>False</td>\n",
       "      <td>False</td>\n",
       "      <td>False</td>\n",
       "    </tr>\n",
       "    <tr>\n",
       "      <th>4</th>\n",
       "      <td>False</td>\n",
       "      <td>False</td>\n",
       "      <td>False</td>\n",
       "      <td>False</td>\n",
       "      <td>False</td>\n",
       "    </tr>\n",
       "    <tr>\n",
       "      <th>...</th>\n",
       "      <td>...</td>\n",
       "      <td>...</td>\n",
       "      <td>...</td>\n",
       "      <td>...</td>\n",
       "      <td>...</td>\n",
       "    </tr>\n",
       "    <tr>\n",
       "      <th>995</th>\n",
       "      <td>False</td>\n",
       "      <td>False</td>\n",
       "      <td>False</td>\n",
       "      <td>False</td>\n",
       "      <td>False</td>\n",
       "    </tr>\n",
       "    <tr>\n",
       "      <th>996</th>\n",
       "      <td>False</td>\n",
       "      <td>False</td>\n",
       "      <td>False</td>\n",
       "      <td>False</td>\n",
       "      <td>False</td>\n",
       "    </tr>\n",
       "    <tr>\n",
       "      <th>997</th>\n",
       "      <td>False</td>\n",
       "      <td>False</td>\n",
       "      <td>False</td>\n",
       "      <td>False</td>\n",
       "      <td>False</td>\n",
       "    </tr>\n",
       "    <tr>\n",
       "      <th>998</th>\n",
       "      <td>False</td>\n",
       "      <td>False</td>\n",
       "      <td>False</td>\n",
       "      <td>False</td>\n",
       "      <td>False</td>\n",
       "    </tr>\n",
       "    <tr>\n",
       "      <th>999</th>\n",
       "      <td>False</td>\n",
       "      <td>False</td>\n",
       "      <td>False</td>\n",
       "      <td>False</td>\n",
       "      <td>False</td>\n",
       "    </tr>\n",
       "  </tbody>\n",
       "</table>\n",
       "<p>1000 rows × 5 columns</p>\n",
       "</div>"
      ],
      "text/plain": [
       "      Name  Country  Industry  Net Worth (in billions)  Company\n",
       "0    False    False     False                    False    False\n",
       "1    False    False     False                    False    False\n",
       "2    False    False     False                    False    False\n",
       "3    False    False     False                    False    False\n",
       "4    False    False     False                    False    False\n",
       "..     ...      ...       ...                      ...      ...\n",
       "995  False    False     False                    False    False\n",
       "996  False    False     False                    False    False\n",
       "997  False    False     False                    False    False\n",
       "998  False    False     False                    False    False\n",
       "999  False    False     False                    False    False\n",
       "\n",
       "[1000 rows x 5 columns]"
      ]
     },
     "execution_count": 12,
     "metadata": {},
     "output_type": "execute_result"
    }
   ],
   "source": [
    " df.isnull()"
   ]
  },
  {
   "cell_type": "code",
   "execution_count": 13,
   "id": "d32751df",
   "metadata": {
    "execution": {
     "iopub.execute_input": "2024-10-28T19:54:45.034687Z",
     "iopub.status.busy": "2024-10-28T19:54:45.033449Z",
     "iopub.status.idle": "2024-10-28T19:54:45.045527Z",
     "shell.execute_reply": "2024-10-28T19:54:45.044259Z"
    },
    "papermill": {
     "duration": 0.029414,
     "end_time": "2024-10-28T19:54:45.048107",
     "exception": false,
     "start_time": "2024-10-28T19:54:45.018693",
     "status": "completed"
    },
    "tags": []
   },
   "outputs": [
    {
     "data": {
      "text/plain": [
       "(Name                       0\n",
       " Country                    0\n",
       " Industry                   0\n",
       " Net Worth (in billions)    0\n",
       " Company                    0\n",
       " dtype: int64,\n",
       " Name                       0\n",
       " Country                    0\n",
       " Industry                   0\n",
       " Net Worth (in billions)    0\n",
       " Company                    0\n",
       " dtype: int64)"
      ]
     },
     "execution_count": 13,
     "metadata": {},
     "output_type": "execute_result"
    }
   ],
   "source": [
    "df.isnull().sum() ,df.isnull().sum()"
   ]
  },
  {
   "cell_type": "code",
   "execution_count": 14,
   "id": "013926b1",
   "metadata": {
    "execution": {
     "iopub.execute_input": "2024-10-28T19:54:45.078703Z",
     "iopub.status.busy": "2024-10-28T19:54:45.078137Z",
     "iopub.status.idle": "2024-10-28T19:54:45.098389Z",
     "shell.execute_reply": "2024-10-28T19:54:45.097188Z"
    },
    "papermill": {
     "duration": 0.039045,
     "end_time": "2024-10-28T19:54:45.101021",
     "exception": false,
     "start_time": "2024-10-28T19:54:45.061976",
     "status": "completed"
    },
    "tags": []
   },
   "outputs": [
    {
     "data": {
      "text/html": [
       "<div>\n",
       "<style scoped>\n",
       "    .dataframe tbody tr th:only-of-type {\n",
       "        vertical-align: middle;\n",
       "    }\n",
       "\n",
       "    .dataframe tbody tr th {\n",
       "        vertical-align: top;\n",
       "    }\n",
       "\n",
       "    .dataframe thead th {\n",
       "        text-align: right;\n",
       "    }\n",
       "</style>\n",
       "<table border=\"1\" class=\"dataframe\">\n",
       "  <thead>\n",
       "    <tr style=\"text-align: right;\">\n",
       "      <th></th>\n",
       "      <th>Country</th>\n",
       "      <th>Company</th>\n",
       "      <th>Industry</th>\n",
       "      <th>Name</th>\n",
       "    </tr>\n",
       "  </thead>\n",
       "  <tbody>\n",
       "    <tr>\n",
       "      <th>0</th>\n",
       "      <td>Mexico</td>\n",
       "      <td>Walmart</td>\n",
       "      <td>Finance</td>\n",
       "      <td>Rob Walton</td>\n",
       "    </tr>\n",
       "    <tr>\n",
       "      <th>1</th>\n",
       "      <td>USA</td>\n",
       "      <td>Google</td>\n",
       "      <td>Automotive</td>\n",
       "      <td>Sergey Brin</td>\n",
       "    </tr>\n",
       "    <tr>\n",
       "      <th>2</th>\n",
       "      <td>USA</td>\n",
       "      <td>Koch Industries</td>\n",
       "      <td>Manufacturing</td>\n",
       "      <td>Steve Ballmer</td>\n",
       "    </tr>\n",
       "    <tr>\n",
       "      <th>3</th>\n",
       "      <td>USA</td>\n",
       "      <td>Google</td>\n",
       "      <td>Technology</td>\n",
       "      <td>Mukesh Ambani</td>\n",
       "    </tr>\n",
       "    <tr>\n",
       "      <th>4</th>\n",
       "      <td>USA</td>\n",
       "      <td>Walmart</td>\n",
       "      <td>Fashion</td>\n",
       "      <td>Jim Walton</td>\n",
       "    </tr>\n",
       "    <tr>\n",
       "      <th>...</th>\n",
       "      <td>...</td>\n",
       "      <td>...</td>\n",
       "      <td>...</td>\n",
       "      <td>...</td>\n",
       "    </tr>\n",
       "    <tr>\n",
       "      <th>995</th>\n",
       "      <td>USA</td>\n",
       "      <td>Facebook</td>\n",
       "      <td>Retail</td>\n",
       "      <td>Warren Buffett</td>\n",
       "    </tr>\n",
       "    <tr>\n",
       "      <th>996</th>\n",
       "      <td>USA</td>\n",
       "      <td>Walmart</td>\n",
       "      <td>Media</td>\n",
       "      <td>Amancio Ortega</td>\n",
       "    </tr>\n",
       "    <tr>\n",
       "      <th>997</th>\n",
       "      <td>USA</td>\n",
       "      <td>Walmart</td>\n",
       "      <td>Retail</td>\n",
       "      <td>Alice Walton</td>\n",
       "    </tr>\n",
       "    <tr>\n",
       "      <th>998</th>\n",
       "      <td>Spain</td>\n",
       "      <td>Reliance Industries</td>\n",
       "      <td>Retail</td>\n",
       "      <td>Amancio Ortega</td>\n",
       "    </tr>\n",
       "    <tr>\n",
       "      <th>999</th>\n",
       "      <td>USA</td>\n",
       "      <td>Berkshire Hathaway</td>\n",
       "      <td>Retail</td>\n",
       "      <td>Jim Walton</td>\n",
       "    </tr>\n",
       "  </tbody>\n",
       "</table>\n",
       "<p>1000 rows × 4 columns</p>\n",
       "</div>"
      ],
      "text/plain": [
       "    Country              Company       Industry            Name\n",
       "0    Mexico              Walmart        Finance      Rob Walton\n",
       "1       USA               Google     Automotive     Sergey Brin\n",
       "2       USA      Koch Industries  Manufacturing   Steve Ballmer\n",
       "3       USA               Google     Technology   Mukesh Ambani\n",
       "4       USA              Walmart        Fashion      Jim Walton\n",
       "..      ...                  ...            ...             ...\n",
       "995     USA             Facebook         Retail  Warren Buffett\n",
       "996     USA              Walmart          Media  Amancio Ortega\n",
       "997     USA              Walmart         Retail    Alice Walton\n",
       "998   Spain  Reliance Industries         Retail  Amancio Ortega\n",
       "999     USA   Berkshire Hathaway         Retail      Jim Walton\n",
       "\n",
       "[1000 rows x 4 columns]"
      ]
     },
     "execution_count": 14,
     "metadata": {},
     "output_type": "execute_result"
    }
   ],
   "source": [
    "df[['Country' , 'Company', 'Industry', 'Name']]\n"
   ]
  },
  {
   "cell_type": "code",
   "execution_count": 15,
   "id": "1520543f",
   "metadata": {
    "execution": {
     "iopub.execute_input": "2024-10-28T19:54:45.131882Z",
     "iopub.status.busy": "2024-10-28T19:54:45.131400Z",
     "iopub.status.idle": "2024-10-28T19:54:45.147644Z",
     "shell.execute_reply": "2024-10-28T19:54:45.146194Z"
    },
    "papermill": {
     "duration": 0.035302,
     "end_time": "2024-10-28T19:54:45.150870",
     "exception": false,
     "start_time": "2024-10-28T19:54:45.115568",
     "status": "completed"
    },
    "tags": []
   },
   "outputs": [
    {
     "data": {
      "text/html": [
       "<div>\n",
       "<style scoped>\n",
       "    .dataframe tbody tr th:only-of-type {\n",
       "        vertical-align: middle;\n",
       "    }\n",
       "\n",
       "    .dataframe tbody tr th {\n",
       "        vertical-align: top;\n",
       "    }\n",
       "\n",
       "    .dataframe thead th {\n",
       "        text-align: right;\n",
       "    }\n",
       "</style>\n",
       "<table border=\"1\" class=\"dataframe\">\n",
       "  <thead>\n",
       "    <tr style=\"text-align: right;\">\n",
       "      <th></th>\n",
       "      <th>Name</th>\n",
       "      <th>Country</th>\n",
       "      <th>Industry</th>\n",
       "      <th>Net Worth (in billions)</th>\n",
       "      <th>Company</th>\n",
       "    </tr>\n",
       "  </thead>\n",
       "  <tbody>\n",
       "    <tr>\n",
       "      <th>0</th>\n",
       "      <td>Rob Walton</td>\n",
       "      <td>Mexico</td>\n",
       "      <td>Finance</td>\n",
       "      <td>8.50</td>\n",
       "      <td>Walmart</td>\n",
       "    </tr>\n",
       "    <tr>\n",
       "      <th>1</th>\n",
       "      <td>Sergey Brin</td>\n",
       "      <td>USA</td>\n",
       "      <td>Automotive</td>\n",
       "      <td>44.76</td>\n",
       "      <td>Google</td>\n",
       "    </tr>\n",
       "    <tr>\n",
       "      <th>2</th>\n",
       "      <td>Steve Ballmer</td>\n",
       "      <td>USA</td>\n",
       "      <td>Manufacturing</td>\n",
       "      <td>13.43</td>\n",
       "      <td>Koch Industries</td>\n",
       "    </tr>\n",
       "    <tr>\n",
       "      <th>3</th>\n",
       "      <td>Mukesh Ambani</td>\n",
       "      <td>USA</td>\n",
       "      <td>Technology</td>\n",
       "      <td>120.44</td>\n",
       "      <td>Google</td>\n",
       "    </tr>\n",
       "    <tr>\n",
       "      <th>4</th>\n",
       "      <td>Jim Walton</td>\n",
       "      <td>USA</td>\n",
       "      <td>Fashion</td>\n",
       "      <td>122.39</td>\n",
       "      <td>Walmart</td>\n",
       "    </tr>\n",
       "    <tr>\n",
       "      <th>5</th>\n",
       "      <td>Sergey Brin</td>\n",
       "      <td>USA</td>\n",
       "      <td>Technology</td>\n",
       "      <td>93.19</td>\n",
       "      <td>Walmart</td>\n",
       "    </tr>\n",
       "    <tr>\n",
       "      <th>6</th>\n",
       "      <td>Michael Bloomberg</td>\n",
       "      <td>USA</td>\n",
       "      <td>Cosmetics</td>\n",
       "      <td>117.96</td>\n",
       "      <td>Reliance Industries</td>\n",
       "    </tr>\n",
       "    <tr>\n",
       "      <th>7</th>\n",
       "      <td>Warren Buffett</td>\n",
       "      <td>France</td>\n",
       "      <td>Retail</td>\n",
       "      <td>36.62</td>\n",
       "      <td>Microsoft</td>\n",
       "    </tr>\n",
       "    <tr>\n",
       "      <th>8</th>\n",
       "      <td>Carlos Slim</td>\n",
       "      <td>USA</td>\n",
       "      <td>Technology</td>\n",
       "      <td>97.35</td>\n",
       "      <td>Reliance Industries</td>\n",
       "    </tr>\n",
       "    <tr>\n",
       "      <th>9</th>\n",
       "      <td>Larry Page</td>\n",
       "      <td>USA</td>\n",
       "      <td>Technology</td>\n",
       "      <td>88.05</td>\n",
       "      <td>Walmart</td>\n",
       "    </tr>\n",
       "  </tbody>\n",
       "</table>\n",
       "</div>"
      ],
      "text/plain": [
       "                Name Country       Industry  Net Worth (in billions)  \\\n",
       "0         Rob Walton  Mexico        Finance                     8.50   \n",
       "1        Sergey Brin     USA     Automotive                    44.76   \n",
       "2      Steve Ballmer     USA  Manufacturing                    13.43   \n",
       "3      Mukesh Ambani     USA     Technology                   120.44   \n",
       "4         Jim Walton     USA        Fashion                   122.39   \n",
       "5        Sergey Brin     USA     Technology                    93.19   \n",
       "6  Michael Bloomberg     USA      Cosmetics                   117.96   \n",
       "7     Warren Buffett  France         Retail                    36.62   \n",
       "8        Carlos Slim     USA     Technology                    97.35   \n",
       "9         Larry Page     USA     Technology                    88.05   \n",
       "\n",
       "               Company  \n",
       "0              Walmart  \n",
       "1               Google  \n",
       "2      Koch Industries  \n",
       "3               Google  \n",
       "4              Walmart  \n",
       "5              Walmart  \n",
       "6  Reliance Industries  \n",
       "7            Microsoft  \n",
       "8  Reliance Industries  \n",
       "9              Walmart  "
      ]
     },
     "execution_count": 15,
     "metadata": {},
     "output_type": "execute_result"
    }
   ],
   "source": [
    "df.head(10)\n"
   ]
  },
  {
   "cell_type": "code",
   "execution_count": 16,
   "id": "4091e59b",
   "metadata": {
    "execution": {
     "iopub.execute_input": "2024-10-28T19:54:45.181405Z",
     "iopub.status.busy": "2024-10-28T19:54:45.180956Z",
     "iopub.status.idle": "2024-10-28T19:54:45.195979Z",
     "shell.execute_reply": "2024-10-28T19:54:45.194432Z"
    },
    "papermill": {
     "duration": 0.033298,
     "end_time": "2024-10-28T19:54:45.198557",
     "exception": false,
     "start_time": "2024-10-28T19:54:45.165259",
     "status": "completed"
    },
    "tags": []
   },
   "outputs": [
    {
     "data": {
      "text/html": [
       "<div>\n",
       "<style scoped>\n",
       "    .dataframe tbody tr th:only-of-type {\n",
       "        vertical-align: middle;\n",
       "    }\n",
       "\n",
       "    .dataframe tbody tr th {\n",
       "        vertical-align: top;\n",
       "    }\n",
       "\n",
       "    .dataframe thead th {\n",
       "        text-align: right;\n",
       "    }\n",
       "</style>\n",
       "<table border=\"1\" class=\"dataframe\">\n",
       "  <thead>\n",
       "    <tr style=\"text-align: right;\">\n",
       "      <th></th>\n",
       "      <th>Name</th>\n",
       "      <th>Country</th>\n",
       "      <th>Industry</th>\n",
       "      <th>Net Worth (in billions)</th>\n",
       "      <th>Company</th>\n",
       "    </tr>\n",
       "  </thead>\n",
       "  <tbody>\n",
       "    <tr>\n",
       "      <th>995</th>\n",
       "      <td>Warren Buffett</td>\n",
       "      <td>USA</td>\n",
       "      <td>Retail</td>\n",
       "      <td>142.66</td>\n",
       "      <td>Facebook</td>\n",
       "    </tr>\n",
       "    <tr>\n",
       "      <th>996</th>\n",
       "      <td>Amancio Ortega</td>\n",
       "      <td>USA</td>\n",
       "      <td>Media</td>\n",
       "      <td>166.87</td>\n",
       "      <td>Walmart</td>\n",
       "    </tr>\n",
       "    <tr>\n",
       "      <th>997</th>\n",
       "      <td>Alice Walton</td>\n",
       "      <td>USA</td>\n",
       "      <td>Retail</td>\n",
       "      <td>30.44</td>\n",
       "      <td>Walmart</td>\n",
       "    </tr>\n",
       "    <tr>\n",
       "      <th>998</th>\n",
       "      <td>Amancio Ortega</td>\n",
       "      <td>Spain</td>\n",
       "      <td>Retail</td>\n",
       "      <td>163.18</td>\n",
       "      <td>Reliance Industries</td>\n",
       "    </tr>\n",
       "    <tr>\n",
       "      <th>999</th>\n",
       "      <td>Jim Walton</td>\n",
       "      <td>USA</td>\n",
       "      <td>Retail</td>\n",
       "      <td>186.94</td>\n",
       "      <td>Berkshire Hathaway</td>\n",
       "    </tr>\n",
       "  </tbody>\n",
       "</table>\n",
       "</div>"
      ],
      "text/plain": [
       "               Name Country Industry  Net Worth (in billions)  \\\n",
       "995  Warren Buffett     USA   Retail                   142.66   \n",
       "996  Amancio Ortega     USA    Media                   166.87   \n",
       "997    Alice Walton     USA   Retail                    30.44   \n",
       "998  Amancio Ortega   Spain   Retail                   163.18   \n",
       "999      Jim Walton     USA   Retail                   186.94   \n",
       "\n",
       "                 Company  \n",
       "995             Facebook  \n",
       "996              Walmart  \n",
       "997              Walmart  \n",
       "998  Reliance Industries  \n",
       "999   Berkshire Hathaway  "
      ]
     },
     "execution_count": 16,
     "metadata": {},
     "output_type": "execute_result"
    }
   ],
   "source": [
    "df.tail()\n"
   ]
  },
  {
   "cell_type": "code",
   "execution_count": 17,
   "id": "0877c083",
   "metadata": {
    "execution": {
     "iopub.execute_input": "2024-10-28T19:54:45.230179Z",
     "iopub.status.busy": "2024-10-28T19:54:45.229092Z",
     "iopub.status.idle": "2024-10-28T19:54:45.241768Z",
     "shell.execute_reply": "2024-10-28T19:54:45.240540Z"
    },
    "papermill": {
     "duration": 0.031138,
     "end_time": "2024-10-28T19:54:45.244251",
     "exception": false,
     "start_time": "2024-10-28T19:54:45.213113",
     "status": "completed"
    },
    "tags": []
   },
   "outputs": [
    {
     "data": {
      "text/html": [
       "<div>\n",
       "<style scoped>\n",
       "    .dataframe tbody tr th:only-of-type {\n",
       "        vertical-align: middle;\n",
       "    }\n",
       "\n",
       "    .dataframe tbody tr th {\n",
       "        vertical-align: top;\n",
       "    }\n",
       "\n",
       "    .dataframe thead th {\n",
       "        text-align: right;\n",
       "    }\n",
       "</style>\n",
       "<table border=\"1\" class=\"dataframe\">\n",
       "  <thead>\n",
       "    <tr style=\"text-align: right;\">\n",
       "      <th></th>\n",
       "      <th>Net Worth (in billions)</th>\n",
       "    </tr>\n",
       "  </thead>\n",
       "  <tbody>\n",
       "    <tr>\n",
       "      <th>Net Worth (in billions)</th>\n",
       "      <td>1.0</td>\n",
       "    </tr>\n",
       "  </tbody>\n",
       "</table>\n",
       "</div>"
      ],
      "text/plain": [
       "                         Net Worth (in billions)\n",
       "Net Worth (in billions)                      1.0"
      ]
     },
     "execution_count": 17,
     "metadata": {},
     "output_type": "execute_result"
    }
   ],
   "source": [
    "df.corr(numeric_only = True)"
   ]
  },
  {
   "cell_type": "code",
   "execution_count": 18,
   "id": "1ef6bfc1",
   "metadata": {
    "execution": {
     "iopub.execute_input": "2024-10-28T19:54:45.276084Z",
     "iopub.status.busy": "2024-10-28T19:54:45.275102Z",
     "iopub.status.idle": "2024-10-28T19:54:45.294655Z",
     "shell.execute_reply": "2024-10-28T19:54:45.293098Z"
    },
    "papermill": {
     "duration": 0.038707,
     "end_time": "2024-10-28T19:54:45.297652",
     "exception": false,
     "start_time": "2024-10-28T19:54:45.258945",
     "status": "completed"
    },
    "tags": []
   },
   "outputs": [
    {
     "name": "stdout",
     "output_type": "stream",
     "text": [
      "<class 'pandas.core.frame.DataFrame'>\n",
      "RangeIndex: 1000 entries, 0 to 999\n",
      "Data columns (total 5 columns):\n",
      " #   Column                   Non-Null Count  Dtype  \n",
      "---  ------                   --------------  -----  \n",
      " 0   Name                     1000 non-null   object \n",
      " 1   Country                  1000 non-null   object \n",
      " 2   Industry                 1000 non-null   object \n",
      " 3   Net Worth (in billions)  1000 non-null   float64\n",
      " 4   Company                  1000 non-null   object \n",
      "dtypes: float64(1), object(4)\n",
      "memory usage: 39.2+ KB\n"
     ]
    }
   ],
   "source": [
    " df.info()\n"
   ]
  },
  {
   "cell_type": "code",
   "execution_count": 19,
   "id": "653bc5fa",
   "metadata": {
    "execution": {
     "iopub.execute_input": "2024-10-28T19:54:45.329718Z",
     "iopub.status.busy": "2024-10-28T19:54:45.328173Z",
     "iopub.status.idle": "2024-10-28T19:54:45.353160Z",
     "shell.execute_reply": "2024-10-28T19:54:45.351641Z"
    },
    "papermill": {
     "duration": 0.043828,
     "end_time": "2024-10-28T19:54:45.356057",
     "exception": false,
     "start_time": "2024-10-28T19:54:45.312229",
     "status": "completed"
    },
    "tags": []
   },
   "outputs": [
    {
     "data": {
      "text/html": [
       "<div>\n",
       "<style scoped>\n",
       "    .dataframe tbody tr th:only-of-type {\n",
       "        vertical-align: middle;\n",
       "    }\n",
       "\n",
       "    .dataframe tbody tr th {\n",
       "        vertical-align: top;\n",
       "    }\n",
       "\n",
       "    .dataframe thead th {\n",
       "        text-align: right;\n",
       "    }\n",
       "</style>\n",
       "<table border=\"1\" class=\"dataframe\">\n",
       "  <thead>\n",
       "    <tr style=\"text-align: right;\">\n",
       "      <th></th>\n",
       "      <th>count</th>\n",
       "      <th>mean</th>\n",
       "      <th>std</th>\n",
       "      <th>min</th>\n",
       "      <th>25%</th>\n",
       "      <th>50%</th>\n",
       "      <th>75%</th>\n",
       "      <th>max</th>\n",
       "    </tr>\n",
       "  </thead>\n",
       "  <tbody>\n",
       "    <tr>\n",
       "      <th>Net Worth (in billions)</th>\n",
       "      <td>1000.0</td>\n",
       "      <td>102.61627</td>\n",
       "      <td>56.796062</td>\n",
       "      <td>1.57</td>\n",
       "      <td>54.96</td>\n",
       "      <td>103.365</td>\n",
       "      <td>151.9125</td>\n",
       "      <td>199.24</td>\n",
       "    </tr>\n",
       "  </tbody>\n",
       "</table>\n",
       "</div>"
      ],
      "text/plain": [
       "                          count       mean        std   min    25%      50%  \\\n",
       "Net Worth (in billions)  1000.0  102.61627  56.796062  1.57  54.96  103.365   \n",
       "\n",
       "                              75%     max  \n",
       "Net Worth (in billions)  151.9125  199.24  "
      ]
     },
     "execution_count": 19,
     "metadata": {},
     "output_type": "execute_result"
    }
   ],
   "source": [
    "df.describe().T"
   ]
  },
  {
   "cell_type": "markdown",
   "id": "2e66d1c7",
   "metadata": {
    "papermill": {
     "duration": 0.014314,
     "end_time": "2024-10-28T19:54:45.385609",
     "exception": false,
     "start_time": "2024-10-28T19:54:45.371295",
     "status": "completed"
    },
    "tags": []
   },
   "source": [
    "#  Data visualization"
   ]
  },
  {
   "cell_type": "code",
   "execution_count": 20,
   "id": "9db66ba4",
   "metadata": {
    "execution": {
     "iopub.execute_input": "2024-10-28T19:54:45.417215Z",
     "iopub.status.busy": "2024-10-28T19:54:45.416673Z",
     "iopub.status.idle": "2024-10-28T19:54:45.730358Z",
     "shell.execute_reply": "2024-10-28T19:54:45.729105Z"
    },
    "papermill": {
     "duration": 0.332812,
     "end_time": "2024-10-28T19:54:45.733234",
     "exception": false,
     "start_time": "2024-10-28T19:54:45.400422",
     "status": "completed"
    },
    "tags": []
   },
   "outputs": [
    {
     "data": {
      "image/png": "[encoded data removed]",
      "text/plain": [
       "<Figure size 800x600 with 2 Axes>"
      ]
     },
     "metadata": {},
     "output_type": "display_data"
    }
   ],
   "source": [
    "f, ax = plt.subplots(figsize =(8,6))\n",
    "sns.heatmap(df.corr(numeric_only=True), annot=True, linewidths=.5, fmt = '0.1f', ax=ax)\n",
    "plt.show()\n"
   ]
  },
  {
   "cell_type": "markdown",
   "id": "8ef03123",
   "metadata": {
    "papermill": {
     "duration": 0.015229,
     "end_time": "2024-10-28T19:54:45.763888",
     "exception": false,
     "start_time": "2024-10-28T19:54:45.748659",
     "status": "completed"
    },
    "tags": []
   },
   "source": [
    "# List of largest companies by revenue"
   ]
  },
  {
   "cell_type": "markdown",
   "id": "64568f0f",
   "metadata": {
    "papermill": {
     "duration": 0.015128,
     "end_time": "2024-10-28T19:54:45.794464",
     "exception": false,
     "start_time": "2024-10-28T19:54:45.779336",
     "status": "completed"
    },
    "tags": []
   },
   "source": [
    "Analyzing the Top 5 Companies"
   ]
  },
  {
   "cell_type": "code",
   "execution_count": 21,
   "id": "b58c3ace",
   "metadata": {
    "execution": {
     "iopub.execute_input": "2024-10-28T19:54:45.827367Z",
     "iopub.status.busy": "2024-10-28T19:54:45.826886Z",
     "iopub.status.idle": "2024-10-28T19:54:45.838630Z",
     "shell.execute_reply": "2024-10-28T19:54:45.837232Z"
    },
    "papermill": {
     "duration": 0.031645,
     "end_time": "2024-10-28T19:54:45.841480",
     "exception": false,
     "start_time": "2024-10-28T19:54:45.809835",
     "status": "completed"
    },
    "tags": []
   },
   "outputs": [
    {
     "name": "stdout",
     "output_type": "stream",
     "text": [
      "         Company  Net Worth (in billions)\n",
      "616     Facebook                   199.24\n",
      "584  Grupo Carso                   199.21\n",
      "115      L'Oreal                   199.20\n",
      "913    Microsoft                   199.10\n",
      "91       Walmart                   199.00\n"
     ]
    }
   ],
   "source": [
    "top_5_companies = df.sort_values(by='Net Worth (in billions)', ascending=False).head(5)\n",
    "print(top_5_companies[['Company', 'Net Worth (in billions)']])"
   ]
  },
  {
   "cell_type": "markdown",
   "id": "a2f1ed02",
   "metadata": {
    "papermill": {
     "duration": 0.015244,
     "end_time": "2024-10-28T19:54:45.872154",
     "exception": false,
     "start_time": "2024-10-28T19:54:45.856910",
     "status": "completed"
    },
    "tags": []
   },
   "source": [
    "The number of companies in Industry"
   ]
  },
  {
   "cell_type": "code",
   "execution_count": 22,
   "id": "5d229c93",
   "metadata": {
    "execution": {
     "iopub.execute_input": "2024-10-28T19:54:45.905455Z",
     "iopub.status.busy": "2024-10-28T19:54:45.904996Z",
     "iopub.status.idle": "2024-10-28T19:54:45.913584Z",
     "shell.execute_reply": "2024-10-28T19:54:45.912005Z"
    },
    "papermill": {
     "duration": 0.02876,
     "end_time": "2024-10-28T19:54:45.916432",
     "exception": false,
     "start_time": "2024-10-28T19:54:45.887672",
     "status": "completed"
    },
    "tags": []
   },
   "outputs": [
    {
     "name": "stdout",
     "output_type": "stream",
     "text": [
      "Industry\n",
      "Technology            350\n",
      "Retail                217\n",
      "Manufacturing          94\n",
      "Media                  57\n",
      "Cosmetics              51\n",
      "Telecommunications     51\n",
      "Finance                50\n",
      "Fashion                44\n",
      "Automotive             43\n",
      "Petrochemicals         43\n",
      "Name: count, dtype: int64\n"
     ]
    }
   ],
   "source": [
    "sector_counts = df['Industry'].value_counts()\n",
    "print(sector_counts)\n"
   ]
  },
  {
   "cell_type": "code",
   "execution_count": 23,
   "id": "9e7cb899",
   "metadata": {
    "execution": {
     "iopub.execute_input": "2024-10-28T19:54:45.948811Z",
     "iopub.status.busy": "2024-10-28T19:54:45.948351Z",
     "iopub.status.idle": "2024-10-28T19:54:46.297617Z",
     "shell.execute_reply": "2024-10-28T19:54:46.296127Z"
    },
    "papermill": {
     "duration": 0.368624,
     "end_time": "2024-10-28T19:54:46.300293",
     "exception": false,
     "start_time": "2024-10-28T19:54:45.931669",
     "status": "completed"
    },
    "tags": []
   },
   "outputs": [
    {
     "data": {
      "image/png": "[encoded data removed]",
      "text/plain": [
       "<Figure size 1200x800 with 1 Axes>"
      ]
     },
     "metadata": {},
     "output_type": "display_data"
    }
   ],
   "source": [
    "plt.figure(figsize=(12, 8))\n",
    "df['Industry'].value_counts().head(10).plot(kind='bar', color='orange')\n",
    "plt.title('Top 10 Industry by Number of Companies')\n",
    "plt.xlabel('Industry')\n",
    "plt.ylabel('Number of Companies')\n",
    "plt.show()"
   ]
  },
  {
   "cell_type": "markdown",
   "id": "eed2723c",
   "metadata": {
    "papermill": {
     "duration": 0.01581,
     "end_time": "2024-10-28T19:54:46.332316",
     "exception": false,
     "start_time": "2024-10-28T19:54:46.316506",
     "status": "completed"
    },
    "tags": []
   },
   "source": [
    "Top countries by the number of technology companies."
   ]
  },
  {
   "cell_type": "code",
   "execution_count": 24,
   "id": "f7cd699b",
   "metadata": {
    "execution": {
     "iopub.execute_input": "2024-10-28T19:54:46.366573Z",
     "iopub.status.busy": "2024-10-28T19:54:46.366087Z",
     "iopub.status.idle": "2024-10-28T19:54:46.374727Z",
     "shell.execute_reply": "2024-10-28T19:54:46.373323Z"
    },
    "papermill": {
     "duration": 0.029051,
     "end_time": "2024-10-28T19:54:46.377413",
     "exception": false,
     "start_time": "2024-10-28T19:54:46.348362",
     "status": "completed"
    },
    "tags": []
   },
   "outputs": [
    {
     "name": "stdout",
     "output_type": "stream",
     "text": [
      "Country\n",
      "USA       756\n",
      "France     92\n",
      "Mexico     52\n",
      "Spain      51\n",
      "India      49\n",
      "Name: count, dtype: int64\n"
     ]
    }
   ],
   "source": [
    "country_counts = df['Country'].value_counts().head(5)\n",
    "print(country_counts)\n"
   ]
  },
  {
   "cell_type": "markdown",
   "id": "ee2570f1",
   "metadata": {
    "papermill": {
     "duration": 0.016013,
     "end_time": "2024-10-28T19:54:46.409782",
     "exception": false,
     "start_time": "2024-10-28T19:54:46.393769",
     "status": "completed"
    },
    "tags": []
   },
   "source": [
    "Average Net Worth by Industry"
   ]
  },
  {
   "cell_type": "code",
   "execution_count": 25,
   "id": "ff7dffb6",
   "metadata": {
    "execution": {
     "iopub.execute_input": "2024-10-28T19:54:46.445294Z",
     "iopub.status.busy": "2024-10-28T19:54:46.443892Z",
     "iopub.status.idle": "2024-10-28T19:54:46.793934Z",
     "shell.execute_reply": "2024-10-28T19:54:46.792309Z"
    },
    "papermill": {
     "duration": 0.370913,
     "end_time": "2024-10-28T19:54:46.796993",
     "exception": false,
     "start_time": "2024-10-28T19:54:46.426080",
     "status": "completed"
    },
    "tags": []
   },
   "outputs": [
    {
     "data": {
      "image/png": "[encoded data removed]",
      "text/plain": [
       "<Figure size 1200x800 with 1 Axes>"
      ]
     },
     "metadata": {},
     "output_type": "display_data"
    }
   ],
   "source": [
    "avg_net_worth_by_industry = df.groupby('Industry')['Net Worth (in billions)'].mean().sort_values(ascending=False)\n",
    "plt.figure(figsize=(12, 8))\n",
    "avg_net_worth_by_industry.plot(kind='bar',color='orange')\n",
    "plt.xlabel('Industry')\n",
    "plt.ylabel('Average Net Worth (in billions)')\n",
    "plt.title('Average Net Worth by Industry')\n",
    "plt.show()"
   ]
  },
  {
   "cell_type": "markdown",
   "id": "9abfa003",
   "metadata": {
    "papermill": {
     "duration": 0.016615,
     "end_time": "2024-10-28T19:54:46.831615",
     "exception": false,
     "start_time": "2024-10-28T19:54:46.815000",
     "status": "completed"
    },
    "tags": []
   },
   "source": [
    "Industry Representation'"
   ]
  },
  {
   "cell_type": "code",
   "execution_count": 26,
   "id": "05c6b513",
   "metadata": {
    "execution": {
     "iopub.execute_input": "2024-10-28T19:54:46.867710Z",
     "iopub.status.busy": "2024-10-28T19:54:46.867215Z",
     "iopub.status.idle": "2024-10-28T19:54:47.162525Z",
     "shell.execute_reply": "2024-10-28T19:54:47.161132Z"
    },
    "papermill": {
     "duration": 0.317048,
     "end_time": "2024-10-28T19:54:47.165562",
     "exception": false,
     "start_time": "2024-10-28T19:54:46.848514",
     "status": "completed"
    },
    "tags": []
   },
   "outputs": [
    {
     "data": {
      "image/png": "[encoded data removed]",
      "text/plain": [
       "<Figure size 1200x800 with 1 Axes>"
      ]
     },
     "metadata": {},
     "output_type": "display_data"
    }
   ],
   "source": [
    "plt.figure(figsize=(12, 8))\n",
    "avg_net_worth_by_industry.plot(kind='pie', autopct='%1.1f%%')\n",
    "plt.title('Industry Representation')\n",
    "plt.ylabel('')\n",
    "plt.show()"
   ]
  },
  {
   "cell_type": "markdown",
   "id": "8c4dc493",
   "metadata": {
    "papermill": {
     "duration": 0.022103,
     "end_time": "2024-10-28T19:54:47.211113",
     "exception": false,
     "start_time": "2024-10-28T19:54:47.189010",
     "status": "completed"
    },
    "tags": []
   },
   "source": [
    "Top 10 Companies by Net Worth"
   ]
  },
  {
   "cell_type": "code",
   "execution_count": 27,
   "id": "51bace02",
   "metadata": {
    "execution": {
     "iopub.execute_input": "2024-10-28T19:54:47.268044Z",
     "iopub.status.busy": "2024-10-28T19:54:47.264553Z",
     "iopub.status.idle": "2024-10-28T19:54:47.660366Z",
     "shell.execute_reply": "2024-10-28T19:54:47.658928Z"
    },
    "papermill": {
     "duration": 0.426585,
     "end_time": "2024-10-28T19:54:47.663625",
     "exception": false,
     "start_time": "2024-10-28T19:54:47.237040",
     "status": "completed"
    },
    "tags": []
   },
   "outputs": [
    {
     "data": {
      "image/png": "[encoded data removed]",
      "text/plain": [
       "<Figure size 1200x800 with 1 Axes>"
      ]
     },
     "metadata": {},
     "output_type": "display_data"
    }
   ],
   "source": [
    "top_companies_by_net_worth = df.groupby('Company')['Net Worth (in billions)'].sum().sort_values(ascending=False).head(10)\n",
    "plt.figure(figsize=(12, 8))\n",
    "top_companies_by_net_worth.plot(kind='bar', color='orange')\n",
    "plt.xlabel('Company')\n",
    "plt.ylabel('Total Net Worth (in billions)')\n",
    "plt.title('Top 10 Companies by Net Worth')\n",
    "plt.show()"
   ]
  },
  {
   "cell_type": "markdown",
   "id": "111076f3",
   "metadata": {
    "papermill": {
     "duration": 0.019153,
     "end_time": "2024-10-28T19:54:47.703142",
     "exception": false,
     "start_time": "2024-10-28T19:54:47.683989",
     "status": "completed"
    },
    "tags": []
   },
   "source": [
    "Top 10 Richest Individuals"
   ]
  },
  {
   "cell_type": "code",
   "execution_count": 28,
   "id": "3d6fee7f",
   "metadata": {
    "execution": {
     "iopub.execute_input": "2024-10-28T19:54:47.743979Z",
     "iopub.status.busy": "2024-10-28T19:54:47.743455Z",
     "iopub.status.idle": "2024-10-28T19:54:48.069010Z",
     "shell.execute_reply": "2024-10-28T19:54:48.067439Z"
    },
    "papermill": {
     "duration": 0.349477,
     "end_time": "2024-10-28T19:54:48.071903",
     "exception": false,
     "start_time": "2024-10-28T19:54:47.722426",
     "status": "completed"
    },
    "tags": []
   },
   "outputs": [
    {
     "data": {
      "image/png": "[encoded data removed]",
      "text/plain": [
       "<Figure size 1000x600 with 1 Axes>"
      ]
     },
     "metadata": {},
     "output_type": "display_data"
    }
   ],
   "source": [
    "top_10_richest = df.sort_values(by='Net Worth (in billions)', ascending=False).head(10)\n",
    "plt.figure(figsize=(10, 6))\n",
    "plt.bar(top_10_richest['Name'], top_10_richest['Net Worth (in billions)'], color='coral')\n",
    "plt.xlabel('Name')\n",
    "plt.ylabel('Net Worth (in billions)')\n",
    "plt.title('Top 10 Richest Individuals')\n",
    "plt.xticks(rotation=45)\n",
    "plt.show()"
   ]
  },
  {
   "cell_type": "markdown",
   "id": "ce5a0078",
   "metadata": {
    "papermill": {
     "duration": 0.020782,
     "end_time": "2024-10-28T19:54:48.114071",
     "exception": false,
     "start_time": "2024-10-28T19:54:48.093289",
     "status": "completed"
    },
    "tags": []
   },
   "source": [
    "Sunburst Plot of Industry and Country Distribution"
   ]
  },
  {
   "cell_type": "code",
   "execution_count": 29,
   "id": "38ed04c7",
   "metadata": {
    "execution": {
     "iopub.execute_input": "2024-10-28T19:54:48.156394Z",
     "iopub.status.busy": "2024-10-28T19:54:48.155926Z",
     "iopub.status.idle": "2024-10-28T19:54:51.015090Z",
     "shell.execute_reply": "2024-10-28T19:54:51.013743Z"
    },
    "papermill": {
     "duration": 2.883417,
     "end_time": "2024-10-28T19:54:51.017915",
     "exception": false,
     "start_time": "2024-10-28T19:54:48.134498",
     "status": "completed"
    },
    "tags": []
   },
   "outputs": [
    {
     "data": {
      "text/html": [
       "        <script type=\"text/javascript\">\n",
       "        window.PlotlyConfig = {MathJaxConfig: 'local'};\n",
       "        if (window.MathJax && window.MathJax.Hub && window.MathJax.Hub.Config) {window.MathJax.Hub.Config({SVG: {font: \"STIX-Web\"}});}\n",
       "        if (typeof require !== 'undefined') {\n",
       "        require.undef(\"plotly\");\n",
       "        requirejs.config({\n",
       "            paths: {\n",
       "                'plotly': ['https://cdn.plot.ly/plotly-2.32.0.min']\n",
       "            }\n",
       "        });\n",
       "        require(['plotly'], function(Plotly) {\n",
       "            window._Plotly = Plotly;\n",
       "        });\n",
       "        }\n",
       "        </script>\n",
       "        "
      ]
     },
     "metadata": {},
     "output_type": "display_data"
    },
    {
     "data": {
      "text/html": [
       "<div>                            <div id=\"8d4b9f5c-f656-4104-9408-9770de8fa686\" class=\"plotly-graph-div\" style=\"height:525px; width:100%;\"></div>            <script type=\"text/javascript\">                require([\"plotly\"], function(Plotly) {                    window.PLOTLYENV=window.PLOTLYENV || {};                                    if (document.getElementById(\"8d4b9f5c-f656-4104-9408-9770de8fa686\")) {                    Plotly.newPlot(                        \"8d4b9f5c-f656-4104-9408-9770de8fa686\",                        [{\"branchvalues\":\"total\",\"customdata\":[[163.64845479067523],[86.74395074701877],[139.23935266720724],[151.94186184885444],[137.0242152720139],[131.8648723952236],[104.79074428316439],[127.12591363946676],[131.85652775639718],[188.43],[24.599845542806708],[113.35733990147783],[92.02],[161.2861985121464],[126.36634063332346],[149.5317139140466],[135.55038308150736],[159.55481062137756],[107.24915630674676],[96.27],[58.44400942960154],[145.78052315687387],[108.85909468406003],[136.0756401863974],[138.07278757664676],[140.69592570546737],[144.79776716327385],[118.82803674942579],[39.64],[160.00229940387007],[74.49068670692814],[146.31319092122828],[102.29277260273972],[112.16772058823531],[131.75273952338353],[121.69848630421727],[108.62711069418387],[130.82699217198413],[128.97173085611922],[114.7085603686299],[137.4016977532249],[142.42079148872125],[138.13555587188614],[131.57541068965517],[135.49508612122574],[133.87442698390274],[134.65461682822152],[132.26107513690815],[125.2519464173449],[121.17444456441265],[132.6740358075491],[144.24710715554207],[133.4730213934991],[129.22662938969236],[135.0644121706192],[133.52632329791422],[137.65373670051622]],\"domain\":{\"x\":[0.0,1.0],\"y\":[0.0,1.0]},\"hovertemplate\":\"labels=%{label}\\u003cbr\\u003eNet Worth (in billions)_sum=%{value}\\u003cbr\\u003eparent=%{parent}\\u003cbr\\u003eid=%{id}\\u003cbr\\u003eNet Worth (in billions)=%{color}\\u003cextra\\u003e\\u003c\\u002fextra\\u003e\",\"ids\":[\"Automotive\\u002fFrance\",\"Cosmetics\\u002fFrance\",\"Fashion\\u002fFrance\",\"Finance\\u002fFrance\",\"Manufacturing\\u002fFrance\",\"Media\\u002fFrance\",\"Petrochemicals\\u002fFrance\",\"Retail\\u002fFrance\",\"Technology\\u002fFrance\",\"Telecommunications\\u002fFrance\",\"Cosmetics\\u002fIndia\",\"Fashion\\u002fIndia\",\"Finance\\u002fIndia\",\"Manufacturing\\u002fIndia\",\"Media\\u002fIndia\",\"Retail\\u002fIndia\",\"Technology\\u002fIndia\",\"Telecommunications\\u002fIndia\",\"Automotive\\u002fMexico\",\"Fashion\\u002fMexico\",\"Finance\\u002fMexico\",\"Manufacturing\\u002fMexico\",\"Media\\u002fMexico\",\"Petrochemicals\\u002fMexico\",\"Retail\\u002fMexico\",\"Technology\\u002fMexico\",\"Telecommunications\\u002fMexico\",\"Automotive\\u002fSpain\",\"Cosmetics\\u002fSpain\",\"Fashion\\u002fSpain\",\"Finance\\u002fSpain\",\"Manufacturing\\u002fSpain\",\"Media\\u002fSpain\",\"Petrochemicals\\u002fSpain\",\"Retail\\u002fSpain\",\"Technology\\u002fSpain\",\"Telecommunications\\u002fSpain\",\"Automotive\\u002fUSA\",\"Cosmetics\\u002fUSA\",\"Fashion\\u002fUSA\",\"Finance\\u002fUSA\",\"Manufacturing\\u002fUSA\",\"Media\\u002fUSA\",\"Petrochemicals\\u002fUSA\",\"Retail\\u002fUSA\",\"Technology\\u002fUSA\",\"Telecommunications\\u002fUSA\",\"Automotive\",\"Cosmetics\",\"Fashion\",\"Finance\",\"Manufacturing\",\"Media\",\"Petrochemicals\",\"Retail\",\"Technology\",\"Telecommunications\"],\"labels\":[\"France\",\"France\",\"France\",\"France\",\"France\",\"France\",\"France\",\"France\",\"France\",\"France\",\"India\",\"India\",\"India\",\"India\",\"India\",\"India\",\"India\",\"India\",\"Mexico\",\"Mexico\",\"Mexico\",\"Mexico\",\"Mexico\",\"Mexico\",\"Mexico\",\"Mexico\",\"Mexico\",\"Spain\",\"Spain\",\"Spain\",\"Spain\",\"Spain\",\"Spain\",\"Spain\",\"Spain\",\"Spain\",\"Spain\",\"USA\",\"USA\",\"USA\",\"USA\",\"USA\",\"USA\",\"USA\",\"USA\",\"USA\",\"USA\",\"Automotive\",\"Cosmetics\",\"Fashion\",\"Finance\",\"Manufacturing\",\"Media\",\"Petrochemicals\",\"Retail\",\"Technology\",\"Telecommunications\"],\"marker\":{\"coloraxis\":\"coloraxis\",\"colors\":[163.64845479067523,86.74395074701877,139.23935266720724,151.94186184885444,137.0242152720139,131.8648723952236,104.79074428316439,127.12591363946676,131.85652775639718,188.43,24.599845542806708,113.35733990147783,92.02,161.2861985121464,126.36634063332346,149.5317139140466,135.55038308150736,159.55481062137756,107.24915630674676,96.27,58.44400942960154,145.78052315687387,108.85909468406003,136.0756401863974,138.07278757664676,140.69592570546737,144.79776716327385,118.82803674942579,39.64,160.00229940387007,74.49068670692814,146.31319092122828,102.29277260273972,112.16772058823531,131.75273952338353,121.69848630421727,108.62711069418387,130.82699217198413,128.97173085611922,114.7085603686299,137.4016977532249,142.42079148872125,138.13555587188614,131.57541068965517,135.49508612122574,133.87442698390274,134.65461682822152,132.26107513690815,125.2519464173449,121.17444456441265,132.6740358075491,144.24710715554207,133.4730213934991,129.22662938969236,135.0644121706192,133.52632329791422,137.65373670051622]},\"name\":\"\",\"parents\":[\"Automotive\",\"Cosmetics\",\"Fashion\",\"Finance\",\"Manufacturing\",\"Media\",\"Petrochemicals\",\"Retail\",\"Technology\",\"Telecommunications\",\"Cosmetics\",\"Fashion\",\"Finance\",\"Manufacturing\",\"Media\",\"Retail\",\"Technology\",\"Telecommunications\",\"Automotive\",\"Fashion\",\"Finance\",\"Manufacturing\",\"Media\",\"Petrochemicals\",\"Retail\",\"Technology\",\"Telecommunications\",\"Automotive\",\"Cosmetics\",\"Fashion\",\"Finance\",\"Manufacturing\",\"Media\",\"Petrochemicals\",\"Retail\",\"Technology\",\"Telecommunications\",\"Automotive\",\"Cosmetics\",\"Fashion\",\"Finance\",\"Manufacturing\",\"Media\",\"Petrochemicals\",\"Retail\",\"Technology\",\"Telecommunications\",\"\",\"\",\"\",\"\",\"\",\"\",\"\",\"\",\"\",\"\"],\"values\":[455.99,218.87,530.33,438.65,530.12,939.62,296.93,2226.48,4027.54,188.43,45.32,215.18,92.02,911.38,135.16000000000003,814.86,2657.92,296.76,286.36,96.27,216.33999999999997,546.49,255.27,360.52,950.79,1814.4,527.58,182.85999999999999,39.64,313.69,147.37,509.32,328.5,198.56,1419.5900000000001,1731.92,213.2,3272.86,4404.41,2734.45,4214.04,7441.42,4074.5,3480.0,17941.57,25342.22,4550.57,4198.07,4708.24,3889.92,5108.42,9938.73,5733.05,4336.01,23353.29,35574.0,5776.54],\"type\":\"sunburst\"}],                        {\"template\":{\"data\":{\"histogram2dcontour\":[{\"type\":\"histogram2dcontour\",\"colorbar\":{\"outlinewidth\":0,\"ticks\":\"\"},\"colorscale\":[[0.0,\"#0d0887\"],[0.1111111111111111,\"#46039f\"],[0.2222222222222222,\"#7201a8\"],[0.3333333333333333,\"#9c179e\"],[0.4444444444444444,\"#bd3786\"],[0.5555555555555556,\"#d8576b\"],[0.6666666666666666,\"#ed7953\"],[0.7777777777777778,\"#fb9f3a\"],[0.8888888888888888,\"#fdca26\"],[1.0,\"#f0f921\"]]}],\"choropleth\":[{\"type\":\"choropleth\",\"colorbar\":{\"outlinewidth\":0,\"ticks\":\"\"}}],\"histogram2d\":[{\"type\":\"histogram2d\",\"colorbar\":{\"outlinewidth\":0,\"ticks\":\"\"},\"colorscale\":[[0.0,\"#0d0887\"],[0.1111111111111111,\"#46039f\"],[0.2222222222222222,\"#7201a8\"],[0.3333333333333333,\"#9c179e\"],[0.4444444444444444,\"#bd3786\"],[0.5555555555555556,\"#d8576b\"],[0.6666666666666666,\"#ed7953\"],[0.7777777777777778,\"#fb9f3a\"],[0.8888888888888888,\"#fdca26\"],[1.0,\"#f0f921\"]]}],\"heatmap\":[{\"type\":\"heatmap\",\"colorbar\":{\"outlinewidth\":0,\"ticks\":\"\"},\"colorscale\":[[0.0,\"#0d0887\"],[0.1111111111111111,\"#46039f\"],[0.2222222222222222,\"#7201a8\"],[0.3333333333333333,\"#9c179e\"],[0.4444444444444444,\"#bd3786\"],[0.5555555555555556,\"#d8576b\"],[0.6666666666666666,\"#ed7953\"],[0.7777777777777778,\"#fb9f3a\"],[0.8888888888888888,\"#fdca26\"],[1.0,\"#f0f921\"]]}],\"heatmapgl\":[{\"type\":\"heatmapgl\",\"colorbar\":{\"outlinewidth\":0,\"ticks\":\"\"},\"colorscale\":[[0.0,\"#0d0887\"],[0.1111111111111111,\"#46039f\"],[0.2222222222222222,\"#7201a8\"],[0.3333333333333333,\"#9c179e\"],[0.4444444444444444,\"#bd3786\"],[0.5555555555555556,\"#d8576b\"],[0.6666666666666666,\"#ed7953\"],[0.7777777777777778,\"#fb9f3a\"],[0.8888888888888888,\"#fdca26\"],[1.0,\"#f0f921\"]]}],\"contourcarpet\":[{\"type\":\"contourcarpet\",\"colorbar\":{\"outlinewidth\":0,\"ticks\":\"\"}}],\"contour\":[{\"type\":\"contour\",\"colorbar\":{\"outlinewidth\":0,\"ticks\":\"\"},\"colorscale\":[[0.0,\"#0d0887\"],[0.1111111111111111,\"#46039f\"],[0.2222222222222222,\"#7201a8\"],[0.3333333333333333,\"#9c179e\"],[0.4444444444444444,\"#bd3786\"],[0.5555555555555556,\"#d8576b\"],[0.6666666666666666,\"#ed7953\"],[0.7777777777777778,\"#fb9f3a\"],[0.8888888888888888,\"#fdca26\"],[1.0,\"#f0f921\"]]}],\"surface\":[{\"type\":\"surface\",\"colorbar\":{\"outlinewidth\":0,\"ticks\":\"\"},\"colorscale\":[[0.0,\"#0d0887\"],[0.1111111111111111,\"#46039f\"],[0.2222222222222222,\"#7201a8\"],[0.3333333333333333,\"#9c179e\"],[0.4444444444444444,\"#bd3786\"],[0.5555555555555556,\"#d8576b\"],[0.6666666666666666,\"#ed7953\"],[0.7777777777777778,\"#fb9f3a\"],[0.8888888888888888,\"#fdca26\"],[1.0,\"#f0f921\"]]}],\"mesh3d\":[{\"type\":\"mesh3d\",\"colorbar\":{\"outlinewidth\":0,\"ticks\":\"\"}}],\"scatter\":[{\"fillpattern\":{\"fillmode\":\"overlay\",\"size\":10,\"solidity\":0.2},\"type\":\"scatter\"}],\"parcoords\":[{\"type\":\"parcoords\",\"line\":{\"colorbar\":{\"outlinewidth\":0,\"ticks\":\"\"}}}],\"scatterpolargl\":[{\"type\":\"scatterpolargl\",\"marker\":{\"colorbar\":{\"outlinewidth\":0,\"ticks\":\"\"}}}],\"bar\":[{\"error_x\":{\"color\":\"#2a3f5f\"},\"error_y\":{\"color\":\"#2a3f5f\"},\"marker\":{\"line\":{\"color\":\"#E5ECF6\",\"width\":0.5},\"pattern\":{\"fillmode\":\"overlay\",\"size\":10,\"solidity\":0.2}},\"type\":\"bar\"}],\"scattergeo\":[{\"type\":\"scattergeo\",\"marker\":{\"colorbar\":{\"outlinewidth\":0,\"ticks\":\"\"}}}],\"scatterpolar\":[{\"type\":\"scatterpolar\",\"marker\":{\"colorbar\":{\"outlinewidth\":0,\"ticks\":\"\"}}}],\"histogram\":[{\"marker\":{\"pattern\":{\"fillmode\":\"overlay\",\"size\":10,\"solidity\":0.2}},\"type\":\"histogram\"}],\"scattergl\":[{\"type\":\"scattergl\",\"marker\":{\"colorbar\":{\"outlinewidth\":0,\"ticks\":\"\"}}}],\"scatter3d\":[{\"type\":\"scatter3d\",\"line\":{\"colorbar\":{\"outlinewidth\":0,\"ticks\":\"\"}},\"marker\":{\"colorbar\":{\"outlinewidth\":0,\"ticks\":\"\"}}}],\"scattermapbox\":[{\"type\":\"scattermapbox\",\"marker\":{\"colorbar\":{\"outlinewidth\":0,\"ticks\":\"\"}}}],\"scatterternary\":[{\"type\":\"scatterternary\",\"marker\":{\"colorbar\":{\"outlinewidth\":0,\"ticks\":\"\"}}}],\"scattercarpet\":[{\"type\":\"scattercarpet\",\"marker\":{\"colorbar\":{\"outlinewidth\":0,\"ticks\":\"\"}}}],\"carpet\":[{\"aaxis\":{\"endlinecolor\":\"#2a3f5f\",\"gridcolor\":\"white\",\"linecolor\":\"white\",\"minorgridcolor\":\"white\",\"startlinecolor\":\"#2a3f5f\"},\"baxis\":{\"endlinecolor\":\"#2a3f5f\",\"gridcolor\":\"white\",\"linecolor\":\"white\",\"minorgridcolor\":\"white\",\"startlinecolor\":\"#2a3f5f\"},\"type\":\"carpet\"}],\"table\":[{\"cells\":{\"fill\":{\"color\":\"#EBF0F8\"},\"line\":{\"color\":\"white\"}},\"header\":{\"fill\":{\"color\":\"#C8D4E3\"},\"line\":{\"color\":\"white\"}},\"type\":\"table\"}],\"barpolar\":[{\"marker\":{\"line\":{\"color\":\"#E5ECF6\",\"width\":0.5},\"pattern\":{\"fillmode\":\"overlay\",\"size\":10,\"solidity\":0.2}},\"type\":\"barpolar\"}],\"pie\":[{\"automargin\":true,\"type\":\"pie\"}]},\"layout\":{\"autotypenumbers\":\"strict\",\"colorway\":[\"#636efa\",\"#EF553B\",\"#00cc96\",\"#ab63fa\",\"#FFA15A\",\"#19d3f3\",\"#FF6692\",\"#B6E880\",\"#FF97FF\",\"#FECB52\"],\"font\":{\"color\":\"#2a3f5f\"},\"hovermode\":\"closest\",\"hoverlabel\":{\"align\":\"left\"},\"paper_bgcolor\":\"white\",\"plot_bgcolor\":\"#E5ECF6\",\"polar\":{\"bgcolor\":\"#E5ECF6\",\"angularaxis\":{\"gridcolor\":\"white\",\"linecolor\":\"white\",\"ticks\":\"\"},\"radialaxis\":{\"gridcolor\":\"white\",\"linecolor\":\"white\",\"ticks\":\"\"}},\"ternary\":{\"bgcolor\":\"#E5ECF6\",\"aaxis\":{\"gridcolor\":\"white\",\"linecolor\":\"white\",\"ticks\":\"\"},\"baxis\":{\"gridcolor\":\"white\",\"linecolor\":\"white\",\"ticks\":\"\"},\"caxis\":{\"gridcolor\":\"white\",\"linecolor\":\"white\",\"ticks\":\"\"}},\"coloraxis\":{\"colorbar\":{\"outlinewidth\":0,\"ticks\":\"\"}},\"colorscale\":{\"sequential\":[[0.0,\"#0d0887\"],[0.1111111111111111,\"#46039f\"],[0.2222222222222222,\"#7201a8\"],[0.3333333333333333,\"#9c179e\"],[0.4444444444444444,\"#bd3786\"],[0.5555555555555556,\"#d8576b\"],[0.6666666666666666,\"#ed7953\"],[0.7777777777777778,\"#fb9f3a\"],[0.8888888888888888,\"#fdca26\"],[1.0,\"#f0f921\"]],\"sequentialminus\":[[0.0,\"#0d0887\"],[0.1111111111111111,\"#46039f\"],[0.2222222222222222,\"#7201a8\"],[0.3333333333333333,\"#9c179e\"],[0.4444444444444444,\"#bd3786\"],[0.5555555555555556,\"#d8576b\"],[0.6666666666666666,\"#ed7953\"],[0.7777777777777778,\"#fb9f3a\"],[0.8888888888888888,\"#fdca26\"],[1.0,\"#f0f921\"]],\"diverging\":[[0,\"#8e0152\"],[0.1,\"#c51b7d\"],[0.2,\"#de77ae\"],[0.3,\"#f1b6da\"],[0.4,\"#fde0ef\"],[0.5,\"#f7f7f7\"],[0.6,\"#e6f5d0\"],[0.7,\"#b8e186\"],[0.8,\"#7fbc41\"],[0.9,\"#4d9221\"],[1,\"#276419\"]]},\"xaxis\":{\"gridcolor\":\"white\",\"linecolor\":\"white\",\"ticks\":\"\",\"title\":{\"standoff\":15},\"zerolinecolor\":\"white\",\"automargin\":true,\"zerolinewidth\":2},\"yaxis\":{\"gridcolor\":\"white\",\"linecolor\":\"white\",\"ticks\":\"\",\"title\":{\"standoff\":15},\"zerolinecolor\":\"white\",\"automargin\":true,\"zerolinewidth\":2},\"scene\":{\"xaxis\":{\"backgroundcolor\":\"#E5ECF6\",\"gridcolor\":\"white\",\"linecolor\":\"white\",\"showbackground\":true,\"ticks\":\"\",\"zerolinecolor\":\"white\",\"gridwidth\":2},\"yaxis\":{\"backgroundcolor\":\"#E5ECF6\",\"gridcolor\":\"white\",\"linecolor\":\"white\",\"showbackground\":true,\"ticks\":\"\",\"zerolinecolor\":\"white\",\"gridwidth\":2},\"zaxis\":{\"backgroundcolor\":\"#E5ECF6\",\"gridcolor\":\"white\",\"linecolor\":\"white\",\"showbackground\":true,\"ticks\":\"\",\"zerolinecolor\":\"white\",\"gridwidth\":2}},\"shapedefaults\":{\"line\":{\"color\":\"#2a3f5f\"}},\"annotationdefaults\":{\"arrowcolor\":\"#2a3f5f\",\"arrowhead\":0,\"arrowwidth\":1},\"geo\":{\"bgcolor\":\"white\",\"landcolor\":\"#E5ECF6\",\"subunitcolor\":\"white\",\"showland\":true,\"showlakes\":true,\"lakecolor\":\"white\"},\"title\":{\"x\":0.05},\"mapbox\":{\"style\":\"light\"}}},\"coloraxis\":{\"colorbar\":{\"title\":{\"text\":\"Net Worth (in billions)\"}},\"colorscale\":[[0.0,\"rgb(165,0,38)\"],[0.1,\"rgb(215,48,39)\"],[0.2,\"rgb(244,109,67)\"],[0.3,\"rgb(253,174,97)\"],[0.4,\"rgb(254,224,144)\"],[0.5,\"rgb(255,255,191)\"],[0.6,\"rgb(224,243,248)\"],[0.7,\"rgb(171,217,233)\"],[0.8,\"rgb(116,173,209)\"],[0.9,\"rgb(69,117,180)\"],[1.0,\"rgb(49,54,149)\"]]},\"legend\":{\"tracegroupgap\":0},\"title\":{\"text\":\"Sunburst Plot of Industry and Country Distribution\"}},                        {\"responsive\": true}                    ).then(function(){\n",
       "                            \n",
       "var gd = document.getElementById('8d4b9f5c-f656-4104-9408-9770de8fa686');\n",
       "var x = new MutationObserver(function (mutations, observer) {{\n",
       "        var display = window.getComputedStyle(gd).display;\n",
       "        if (!display || display === 'none') {{\n",
       "            console.log([gd, 'removed!']);\n",
       "            Plotly.purge(gd);\n",
       "            observer.disconnect();\n",
       "        }}\n",
       "}});\n",
       "\n",
       "// Listen for the removal of the full notebook cells\n",
       "var notebookContainer = gd.closest('#notebook-container');\n",
       "if (notebookContainer) {{\n",
       "    x.observe(notebookContainer, {childList: true});\n",
       "}}\n",
       "\n",
       "// Listen for the clearing of the current output cell\n",
       "var outputEl = gd.closest('.output');\n",
       "if (outputEl) {{\n",
       "    x.observe(outputEl, {childList: true});\n",
       "}}\n",
       "\n",
       "                        })                };                });            </script>        </div>"
      ]
     },
     "metadata": {},
     "output_type": "display_data"
    }
   ],
   "source": [
    "import plotly.express as px\n",
    "\n",
    "fig = px.sunburst(df, path=['Industry', 'Country'], values='Net Worth (in billions)', \n",
    "                  color='Net Worth (in billions)', \n",
    "                  color_continuous_scale='RdYlBu', \n",
    "                  title='Sunburst Plot of Industry and Country Distribution')\n",
    "fig.show()"
   ]
  },
  {
   "cell_type": "code",
   "execution_count": null,
   "id": "e1734e93",
   "metadata": {
    "papermill": {
     "duration": 0.02045,
     "end_time": "2024-10-28T19:54:51.059446",
     "exception": false,
     "start_time": "2024-10-28T19:54:51.038996",
     "status": "completed"
    },
    "tags": []
   },
   "outputs": [],
   "source": []
  },
  {
   "cell_type": "markdown",
   "id": "00c2f27d",
   "metadata": {
    "papermill": {
     "duration": 0.021682,
     "end_time": "2024-10-28T19:54:51.101823",
     "exception": false,
     "start_time": "2024-10-28T19:54:51.080141",
     "status": "completed"
    },
    "tags": []
   },
   "source": [
    "Chart of Industry Representation"
   ]
  },
  {
   "cell_type": "code",
   "execution_count": 30,
   "id": "04e72e84",
   "metadata": {
    "execution": {
     "iopub.execute_input": "2024-10-28T19:54:51.145670Z",
     "iopub.status.busy": "2024-10-28T19:54:51.145183Z",
     "iopub.status.idle": "2024-10-28T19:54:51.425164Z",
     "shell.execute_reply": "2024-10-28T19:54:51.423626Z"
    },
    "papermill": {
     "duration": 0.30487,
     "end_time": "2024-10-28T19:54:51.427878",
     "exception": false,
     "start_time": "2024-10-28T19:54:51.123008",
     "status": "completed"
    },
    "tags": []
   },
   "outputs": [
    {
     "data": {
      "image/png": "[encoded data removed]",
      "text/plain": [
       "<Figure size 1200x800 with 1 Axes>"
      ]
     },
     "metadata": {},
     "output_type": "display_data"
    }
   ],
   "source": [
    "industry_count = df['Industry'].value_counts()\n",
    "plt.figure(figsize=(12, 8))\n",
    "plt.pie(industry_count, labels=industry_count.index, autopct='%1.1f%%', startangle=140, colors=sns.color_palette('Set2'))\n",
    "centre_circle = plt.Circle((0, 0), 0.70, fc='white')\n",
    "fig = plt.gcf()\n",
    "fig.gca().add_artist(centre_circle)\n",
    "plt.title('Chart of Industry Representation')\n",
    "plt.axis('equal')\n",
    "plt.show()"
   ]
  },
  {
   "cell_type": "markdown",
   "id": "60e9b42e",
   "metadata": {
    "papermill": {
     "duration": 0.022003,
     "end_time": "2024-10-28T19:54:51.471955",
     "exception": false,
     "start_time": "2024-10-28T19:54:51.449952",
     "status": "completed"
    },
    "tags": []
   },
   "source": [
    "This analysis lays the groundwork for further research, including tracking trends over\n",
    "time or comparing the technological growth across different regions. The code snippets\n",
    "provided here can be easily adapted to other datasets, making this method flexible for\n",
    "a wide range of analyses."
   ]
  },
  {
   "cell_type": "markdown",
   "id": "1f6ce882",
   "metadata": {
    "papermill": {
     "duration": 0.021501,
     "end_time": "2024-10-28T19:54:51.515373",
     "exception": false,
     "start_time": "2024-10-28T19:54:51.493872",
     "status": "completed"
    },
    "tags": []
   },
   "source": [
    "Please note that this dataset is based on information from 2023 and may not reflect recent changes in the wealth or status of these individuals."
   ]
  },
  {
   "cell_type": "code",
   "execution_count": null,
   "id": "40f0886c",
   "metadata": {
    "papermill": {
     "duration": 0.021427,
     "end_time": "2024-10-28T19:54:51.558958",
     "exception": false,
     "start_time": "2024-10-28T19:54:51.537531",
     "status": "completed"
    },
    "tags": []
   },
   "outputs": [],
   "source": []
  }
 ],
 "metadata": {
  "kaggle": {
   "accelerator": "none",
   "dataSources": [
    {
     "datasetId": 5967182,
     "sourceId": 9747167,
     "sourceType": "datasetVersion"
    }
   ],
   "dockerImageVersionId": 30786,
   "isGpuEnabled": false,
   "isInternetEnabled": true,
   "language": "python",
   "sourceType": "notebook"
  },
  "kernelspec": {
   "display_name": "Python 3",
   "language": "python",
   "name": "python3"
  },
  "language_info": {
   "codemirror_mode": {
    "name": "ipython",
    "version": 3
   },
   "file_extension": ".py",
   "mimetype": "text/x-python",
   "name": "python",
   "nbconvert_exporter": "python",
   "pygments_lexer": "ipython3",
   "version": "3.10.14"
  },
  "papermill": {
   "default_parameters": {},
   "duration": 13.68851,
   "end_time": "2024-10-28T19:54:52.305040",
   "environment_variables": {},
   "exception": null,
   "input_path": "__notebook__.ipynb",
   "output_path": "__notebook__.ipynb",
   "parameters": {},
   "start_time": "2024-10-28T19:54:38.616530",
   "version": "2.6.0"
  }
 },
 "nbformat": 4,
 "nbformat_minor": 5
}
